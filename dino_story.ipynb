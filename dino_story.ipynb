{
 "cells": [
  {
   "cell_type": "markdown",
   "metadata": {},
   "source": [
    "## Run Dino Run\n",
    "Let's make a dino run with power of computer vision and couple of IO methods"
   ]
  },
  {
   "cell_type": "code",
   "execution_count": 2,
   "metadata": {},
   "outputs": [],
   "source": [
    "import cv2\n",
    "from matplotlib import pyplot as plt\n",
    "import numpy as np\n",
    "\n",
    "import dino.search as ds"
   ]
  },
  {
   "cell_type": "code",
   "execution_count": 3,
   "metadata": {},
   "outputs": [],
   "source": [
    "search_area = ds.read_image_gray('test_assets/several_cactuses.png')\n",
    "cactus = ds.read_image_gray('assets/cactus_day.png')"
   ]
  },
  {
   "cell_type": "code",
   "execution_count": 4,
   "metadata": {},
   "outputs": [
    {
     "data": {
      "text/plain": [
       "(([], <a list of 0 Text xticklabel objects>),\n",
       " ([], <a list of 0 Text yticklabel objects>))"
      ]
     },
     "execution_count": 4,
     "metadata": {},
     "output_type": "execute_result"
    },
    {
     "data": {
      "image/png": "[encoded data removed]",
      "text/plain": [
       "<Figure size 432x288 with 1 Axes>"
      ]
     },
     "metadata": {},
     "output_type": "display_data"
    }
   ],
   "source": [
    "plt.imshow(cactus,'gray')\n",
    "plt.xticks([]),plt.yticks([])"
   ]
  },
  {
   "cell_type": "code",
   "execution_count": 5,
   "metadata": {},
   "outputs": [],
   "source": [
    "res = cv2.matchTemplate(search_area, cactus, cv2.TM_CCOEFF_NORMED)\n",
    "threshold = 0.7\n",
    "loc = np.where(res >= threshold)"
   ]
  },
  {
   "cell_type": "code",
   "execution_count": 6,
   "metadata": {},
   "outputs": [
    {
     "data": {
      "text/plain": [
       "(192, 1230)"
      ]
     },
     "execution_count": 6,
     "metadata": {},
     "output_type": "execute_result"
    }
   ],
   "source": [
    "res.shape"
   ]
  },
  {
   "cell_type": "code",
   "execution_count": 7,
   "metadata": {},
   "outputs": [
    {
     "data": {
      "text/plain": [
       "array([( 194, 118), ( 194, 119), ( 716, 127), ( 716, 128), ( 716, 129),\n",
       "       ( 716, 130), ( 716, 131), ( 716, 132), ( 716, 133), (1048, 127),\n",
       "       (1048, 128), (1048, 129), (1048, 130), (1048, 131), (1048, 132),\n",
       "       (1048, 133), (1072, 116), (1072, 117), (1072, 118), (1072, 119),\n",
       "       (1072, 120), (1072, 121), (1072, 122), (1082, 128), (1082, 129),\n",
       "       (1082, 130), (1082, 131), (1082, 132), (1082, 133), (1082, 134),\n",
       "       (1082, 135), (1115, 121), (1115, 122), (1115, 123), (1116, 117),\n",
       "       (1116, 118), (1116, 119), (1116, 120), (1116, 121), (1116, 122),\n",
       "       (1116, 123), (1116, 124), (1116, 125), (1117, 122), (1117, 123)],\n",
       "      dtype=[('left', '<i8'), ('top', '<i8')])"
      ]
     },
     "execution_count": 7,
     "metadata": {},
     "output_type": "execute_result"
    }
   ],
   "source": [
    "dtype = [('left', int), ('top', int)]\n",
    "coords = np.array(list(zip(*loc[::-1])), dtype=dtype)\n",
    "np.sort(coords, order='left')"
   ]
  },
  {
   "cell_type": "code",
   "execution_count": 8,
   "metadata": {},
   "outputs": [
    {
     "name": "stdout",
     "output_type": "stream",
     "text": [
      "[(1072, 116), (1072, 117), (1116, 117), (194, 118), (1072, 118), (1116, 118), (194, 119), (1072, 119), (1116, 119), (1072, 120), (1116, 120), (1072, 121), (1115, 121), (1116, 121), (1072, 122), (1115, 122), (1116, 122), (1117, 122), (1115, 123), (1116, 123), (1117, 123), (1116, 124), (1116, 125), (716, 127), (1048, 127), (716, 128), (1048, 128), (1082, 128), (716, 129), (1048, 129), (1082, 129), (716, 130), (1048, 130), (1082, 130), (716, 131), (1048, 131), (1082, 131), (716, 132), (1048, 132), (1082, 132), (716, 133), (1048, 133), (1082, 133), (1082, 134), (1082, 135)]\n"
     ]
    },
    {
     "data": {
      "text/plain": [
       "[(194, 118), (716, 130), (1068, 127), (1115, 121)]"
      ]
     },
     "execution_count": 8,
     "metadata": {},
     "output_type": "execute_result"
    }
   ],
   "source": [
    "ds.group_coords(list(zip(*loc[::-1])))\n",
    "# sorted([(1,2), (2,1)], key=lambda tup: tup[0])"
   ]
  },
  {
   "cell_type": "code",
   "execution_count": 9,
   "metadata": {},
   "outputs": [
    {
     "data": {
      "text/plain": [
       "<matplotlib.image.AxesImage at 0x11ba95610>"
      ]
     },
     "execution_count": 9,
     "metadata": {},
     "output_type": "execute_result"
    },
    {
     "data": {
      "image/png": "[encoded data removed]",
      "text/plain": [
       "<Figure size 1440x576 with 1 Axes>"
      ]
     },
     "metadata": {
      "needs_background": "light"
     },
     "output_type": "display_data"
    }
   ],
   "source": [
    "for pt in zip(*loc[::-1]):\n",
    "    cv2.rectangle(search_area, pt, (pt[0] + 50, pt[1] + 50), (0,0,255), 1)\n",
    "\n",
    "plt.figure(figsize=(20, 8))\n",
    "plt.imshow(search_area)"
   ]
  },
  {
   "cell_type": "code",
   "execution_count": null,
   "metadata": {},
   "outputs": [],
   "source": []
  },
  {
   "cell_type": "code",
   "execution_count": null,
   "metadata": {},
   "outputs": [],
   "source": []
  }
 ],
 "metadata": {
  "kernelspec": {
   "display_name": "Python 3",
   "language": "python",
   "name": "python3"
  },
  "language_info": {
   "codemirror_mode": {
    "name": "ipython",
    "version": 3
   },
   "file_extension": ".py",
   "mimetype": "text/x-python",
   "name": "python",
   "nbconvert_exporter": "python",
   "pygments_lexer": "ipython3",
   "version": "3.7.6"
  }
 },
 "nbformat": 4,
 "nbformat_minor": 4
}
